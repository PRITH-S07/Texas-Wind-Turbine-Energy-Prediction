{
  "nbformat": 4,
  "nbformat_minor": 0,
  "metadata": {
    "colab": {
      "name": "Texas_Wind_Turbine_Energy_Prediction.ipynb",
      "provenance": []
    },
    "kernelspec": {
      "name": "python3",
      "display_name": "Python 3"
    },
    "language_info": {
      "name": "python"
    }
  },
  "cells": [
    {
      "cell_type": "markdown",
      "metadata": {
        "id": "S1vV-HxN94hZ"
      },
      "source": [
        "## Importing the required libraries"
      ]
    },
    {
      "cell_type": "code",
      "metadata": {
        "id": "5SfJL_6L3GCH"
      },
      "source": [
        "import pandas as pd\n",
        "import numpy as np\n",
        "import matplotlib.pyplot as plt\n",
        "import seaborn as sns"
      ],
      "execution_count": null,
      "outputs": []
    },
    {
      "cell_type": "markdown",
      "metadata": {
        "id": "gme7-7ck98R2"
      },
      "source": [
        "## Reading in the dataset"
      ]
    },
    {
      "cell_type": "code",
      "metadata": {
        "colab": {
          "base_uri": "https://localhost:8080/",
          "height": 206
        },
        "id": "-Lxw67ndPopz",
        "outputId": "b8e02e08-f67d-4337-f4d9-9f7d51ef39db"
      },
      "source": [
        "df=pd.read_csv('/content/19BCT0097- Texas-Wind-Turbine-Energy-Prediction.csv')\n",
        "df.head()"
      ],
      "execution_count": null,
      "outputs": [
        {
          "output_type": "execute_result",
          "data": {
            "text/html": [
              "<div>\n",
              "<style scoped>\n",
              "    .dataframe tbody tr th:only-of-type {\n",
              "        vertical-align: middle;\n",
              "    }\n",
              "\n",
              "    .dataframe tbody tr th {\n",
              "        vertical-align: top;\n",
              "    }\n",
              "\n",
              "    .dataframe thead th {\n",
              "        text-align: right;\n",
              "    }\n",
              "</style>\n",
              "<table border=\"1\" class=\"dataframe\">\n",
              "  <thead>\n",
              "    <tr style=\"text-align: right;\">\n",
              "      <th></th>\n",
              "      <th>Time stamp</th>\n",
              "      <th>System power generated | (kW)</th>\n",
              "      <th>Wind speed | (m/s)</th>\n",
              "      <th>Wind direction | (deg)</th>\n",
              "      <th>Pressure | (atm)</th>\n",
              "      <th>Air temperature | ('C)</th>\n",
              "    </tr>\n",
              "  </thead>\n",
              "  <tbody>\n",
              "    <tr>\n",
              "      <th>0</th>\n",
              "      <td>Jan 1, 12:00 am</td>\n",
              "      <td>1766.64</td>\n",
              "      <td>9.926</td>\n",
              "      <td>128</td>\n",
              "      <td>1.000480</td>\n",
              "      <td>18.263</td>\n",
              "    </tr>\n",
              "    <tr>\n",
              "      <th>1</th>\n",
              "      <td>Jan 1, 01:00 am</td>\n",
              "      <td>1433.83</td>\n",
              "      <td>9.273</td>\n",
              "      <td>135</td>\n",
              "      <td>0.999790</td>\n",
              "      <td>18.363</td>\n",
              "    </tr>\n",
              "    <tr>\n",
              "      <th>2</th>\n",
              "      <td>Jan 1, 02:00 am</td>\n",
              "      <td>1167.23</td>\n",
              "      <td>8.660</td>\n",
              "      <td>142</td>\n",
              "      <td>0.999592</td>\n",
              "      <td>18.663</td>\n",
              "    </tr>\n",
              "    <tr>\n",
              "      <th>3</th>\n",
              "      <td>Jan 1, 03:00 am</td>\n",
              "      <td>1524.59</td>\n",
              "      <td>9.461</td>\n",
              "      <td>148</td>\n",
              "      <td>0.998309</td>\n",
              "      <td>18.763</td>\n",
              "    </tr>\n",
              "    <tr>\n",
              "      <th>4</th>\n",
              "      <td>Jan 1, 04:00 am</td>\n",
              "      <td>1384.28</td>\n",
              "      <td>9.184</td>\n",
              "      <td>150</td>\n",
              "      <td>0.998507</td>\n",
              "      <td>18.963</td>\n",
              "    </tr>\n",
              "  </tbody>\n",
              "</table>\n",
              "</div>"
            ],
            "text/plain": [
              "        Time stamp  ...  Air temperature | ('C)\n",
              "0  Jan 1, 12:00 am  ...                  18.263\n",
              "1  Jan 1, 01:00 am  ...                  18.363\n",
              "2  Jan 1, 02:00 am  ...                  18.663\n",
              "3  Jan 1, 03:00 am  ...                  18.763\n",
              "4  Jan 1, 04:00 am  ...                  18.963\n",
              "\n",
              "[5 rows x 6 columns]"
            ]
          },
          "metadata": {},
          "execution_count": 2
        }
      ]
    },
    {
      "cell_type": "code",
      "metadata": {
        "colab": {
          "base_uri": "https://localhost:8080/"
        },
        "id": "QqfoBtiFP0Ah",
        "outputId": "1bbee5c5-47e6-4d58-8e83-dc744f7def9f"
      },
      "source": [
        "df.columns"
      ],
      "execution_count": null,
      "outputs": [
        {
          "output_type": "execute_result",
          "data": {
            "text/plain": [
              "Index(['Time stamp', 'System power generated | (kW)', 'Wind speed | (m/s)',\n",
              "       'Wind direction | (deg)', 'Pressure | (atm)', 'Air temperature | ('C)'],\n",
              "      dtype='object')"
            ]
          },
          "metadata": {},
          "execution_count": 3
        }
      ]
    },
    {
      "cell_type": "code",
      "metadata": {
        "colab": {
          "base_uri": "https://localhost:8080/"
        },
        "id": "FnSQlLi7VFHW",
        "outputId": "33fa8274-347e-468e-dc03-5cb2c2679b4c"
      },
      "source": [
        "df['Pressure | (atm)'].max()"
      ],
      "execution_count": null,
      "outputs": [
        {
          "output_type": "execute_result",
          "data": {
            "text/plain": [
              "1.01451"
            ]
          },
          "metadata": {},
          "execution_count": 4
        }
      ]
    },
    {
      "cell_type": "markdown",
      "metadata": {
        "id": "xdKMikurQHNl"
      },
      "source": [
        "##So, our job here would be to predict the System power generated given the rest of these parameters."
      ]
    },
    {
      "cell_type": "code",
      "metadata": {
        "colab": {
          "base_uri": "https://localhost:8080/"
        },
        "id": "ZQM8l24uP-o-",
        "outputId": "5769909d-6de6-4b90-b3f3-e9cbf99fcacc"
      },
      "source": [
        "df.isna().sum()"
      ],
      "execution_count": null,
      "outputs": [
        {
          "output_type": "execute_result",
          "data": {
            "text/plain": [
              "Time stamp                       0\n",
              "System power generated | (kW)    0\n",
              "Wind speed | (m/s)               0\n",
              "Wind direction | (deg)           0\n",
              "Pressure | (atm)                 0\n",
              "Air temperature | ('C)           0\n",
              "dtype: int64"
            ]
          },
          "metadata": {},
          "execution_count": 5
        }
      ]
    },
    {
      "cell_type": "markdown",
      "metadata": {
        "id": "D0mFvRK4-CO2"
      },
      "source": [
        "## Performing Simple Linear Regression without pipeline creation."
      ]
    },
    {
      "cell_type": "code",
      "metadata": {
        "colab": {
          "base_uri": "https://localhost:8080/",
          "height": 206
        },
        "id": "AqoMkUZRQeOZ",
        "outputId": "026d6574-8cfa-4ac2-b44a-e59ac0ab18ee"
      },
      "source": [
        "from sklearn.preprocessing import StandardScaler\n",
        "# create an object of the StandardScaler\n",
        "scaler = StandardScaler()\n",
        "scaler.fit(np.array(df['Wind speed | (m/s)']).reshape(-1,1))\n",
        "# transform the data\n",
        "df['Wind speed | (m/s)'] = scaler.transform(np.array(df['Wind speed | (m/s)']).reshape(-1,1))\n",
        "scaler.fit(np.array(df['Wind direction | (deg)']).reshape(-1,1))\n",
        "df['Wind direction | (deg)']=scaler.transform(np.array(df['Wind direction | (deg)']).reshape(-1,1))\n",
        "scaler.fit(np.array(df[\"Air temperature | ('C)\"]).reshape(-1,1))\n",
        "df[\"Air temperature | ('C)\"]=scaler.transform(np.array(df[\"Air temperature | ('C)\"]).reshape(-1,1))\n",
        "scaler.fit(np.array(df[\"System power generated | (kW)\"]).reshape(-1,1))\n",
        "df[\"System power generated | (kW)\"]=scaler.transform(np.array(df[\"System power generated | (kW)\"]).reshape(-1,1))\n",
        "df.head()"
      ],
      "execution_count": null,
      "outputs": [
        {
          "output_type": "execute_result",
          "data": {
            "text/html": [
              "<div>\n",
              "<style scoped>\n",
              "    .dataframe tbody tr th:only-of-type {\n",
              "        vertical-align: middle;\n",
              "    }\n",
              "\n",
              "    .dataframe tbody tr th {\n",
              "        vertical-align: top;\n",
              "    }\n",
              "\n",
              "    .dataframe thead th {\n",
              "        text-align: right;\n",
              "    }\n",
              "</style>\n",
              "<table border=\"1\" class=\"dataframe\">\n",
              "  <thead>\n",
              "    <tr style=\"text-align: right;\">\n",
              "      <th></th>\n",
              "      <th>Time stamp</th>\n",
              "      <th>System power generated | (kW)</th>\n",
              "      <th>Wind speed | (m/s)</th>\n",
              "      <th>Wind direction | (deg)</th>\n",
              "      <th>Pressure | (atm)</th>\n",
              "      <th>Air temperature | ('C)</th>\n",
              "    </tr>\n",
              "  </thead>\n",
              "  <tbody>\n",
              "    <tr>\n",
              "      <th>0</th>\n",
              "      <td>Jan 1, 12:00 am</td>\n",
              "      <td>0.913107</td>\n",
              "      <td>0.812552</td>\n",
              "      <td>-0.219858</td>\n",
              "      <td>1.000480</td>\n",
              "      <td>-0.800069</td>\n",
              "    </tr>\n",
              "    <tr>\n",
              "      <th>1</th>\n",
              "      <td>Jan 1, 01:00 am</td>\n",
              "      <td>0.534272</td>\n",
              "      <td>0.604465</td>\n",
              "      <td>-0.137188</td>\n",
              "      <td>0.999790</td>\n",
              "      <td>-0.779471</td>\n",
              "    </tr>\n",
              "    <tr>\n",
              "      <th>2</th>\n",
              "      <td>Jan 1, 02:00 am</td>\n",
              "      <td>0.230803</td>\n",
              "      <td>0.409125</td>\n",
              "      <td>-0.054517</td>\n",
              "      <td>0.999592</td>\n",
              "      <td>-0.717679</td>\n",
              "    </tr>\n",
              "    <tr>\n",
              "      <th>3</th>\n",
              "      <td>Jan 1, 03:00 am</td>\n",
              "      <td>0.637583</td>\n",
              "      <td>0.664374</td>\n",
              "      <td>0.016343</td>\n",
              "      <td>0.998309</td>\n",
              "      <td>-0.697081</td>\n",
              "    </tr>\n",
              "    <tr>\n",
              "      <th>4</th>\n",
              "      <td>Jan 1, 04:00 am</td>\n",
              "      <td>0.477869</td>\n",
              "      <td>0.576104</td>\n",
              "      <td>0.039963</td>\n",
              "      <td>0.998507</td>\n",
              "      <td>-0.655886</td>\n",
              "    </tr>\n",
              "  </tbody>\n",
              "</table>\n",
              "</div>"
            ],
            "text/plain": [
              "        Time stamp  ...  Air temperature | ('C)\n",
              "0  Jan 1, 12:00 am  ...               -0.800069\n",
              "1  Jan 1, 01:00 am  ...               -0.779471\n",
              "2  Jan 1, 02:00 am  ...               -0.717679\n",
              "3  Jan 1, 03:00 am  ...               -0.697081\n",
              "4  Jan 1, 04:00 am  ...               -0.655886\n",
              "\n",
              "[5 rows x 6 columns]"
            ]
          },
          "metadata": {},
          "execution_count": 6
        }
      ]
    },
    {
      "cell_type": "code",
      "metadata": {
        "id": "PqtUDs_HVKN4"
      },
      "source": [
        "from sklearn.linear_model import LinearRegression\n",
        "from sklearn.ensemble import  RandomForestRegressor\n",
        "from sklearn.model_selection import train_test_split\n",
        "from sklearn.metrics import mean_squared_error"
      ],
      "execution_count": null,
      "outputs": []
    },
    {
      "cell_type": "code",
      "metadata": {
        "colab": {
          "base_uri": "https://localhost:8080/"
        },
        "id": "bAjxWhvHVk-8",
        "outputId": "f94e80c0-fa35-4eda-92a4-3df2954794a5"
      },
      "source": [
        "train_X = df.drop(columns=['Time stamp','System power generated | (kW)'])\n",
        "train_Y = df['System power generated | (kW)']\n",
        "\n",
        "# randomly split the data\n",
        "train_x, test_x, train_y, test_y = train_test_split(train_X, train_Y,test_size=0.2,random_state=0)\n",
        "\n",
        "# shape of train and test splits\n",
        "train_x.shape, test_x.shape, train_y.shape, test_y.shape"
      ],
      "execution_count": null,
      "outputs": [
        {
          "output_type": "execute_result",
          "data": {
            "text/plain": [
              "((7008, 4), (1752, 4), (7008,), (1752,))"
            ]
          },
          "metadata": {},
          "execution_count": 8
        }
      ]
    },
    {
      "cell_type": "code",
      "metadata": {
        "colab": {
          "base_uri": "https://localhost:8080/"
        },
        "id": "zTGp7swEVva7",
        "outputId": "6f07e9d2-c63e-4895-fbf6-293ba45c940c"
      },
      "source": [
        "model_LR = LinearRegression()\n",
        "\n",
        "# fit the model with the training data\n",
        "model_LR.fit(train_x, train_y)\n",
        "# predict the target on train and test data \n",
        "predict_train = model_LR.predict(train_x)\n",
        "predict_test  = model_LR.predict(test_x)\n",
        "from sklearn.metrics import mean_squared_error, r2_score\n",
        "# Root Mean Squared Error on train and test date\n",
        "print('RMSE on train data: ', mean_squared_error(train_y, predict_train)**(0.5))\n",
        "print('RMSE on test data: ',  mean_squared_error(test_y, predict_test)**(0.5))\n",
        "print('Coefficient of determination: %.2f'\n",
        "      % r2_score(test_y, predict_test))"
      ],
      "execution_count": null,
      "outputs": [
        {
          "output_type": "stream",
          "name": "stdout",
          "text": [
            "RMSE on train data:  0.2955598319823536\n",
            "RMSE on test data:  0.29237762689460767\n",
            "Coefficient of determination: 0.92\n"
          ]
        }
      ]
    },
    {
      "cell_type": "markdown",
      "metadata": {
        "id": "u9L4RVHIePFm"
      },
      "source": [
        "# Using a pipeline"
      ]
    },
    {
      "cell_type": "markdown",
      "metadata": {
        "id": "8bzkKO1K-KYM"
      },
      "source": [
        "The different techniques of supervised learning used in this case include: Linear Regression, Decision Tree Regression, Random Forest Regression, Gradient Boosting Regression, Extra Trees Regression and XGBoost."
      ]
    },
    {
      "cell_type": "code",
      "metadata": {
        "id": "KEfX3vmeEPEK",
        "colab": {
          "base_uri": "https://localhost:8080/"
        },
        "outputId": "76e5dc2e-cb9f-4613-978b-67b57e95ec13"
      },
      "source": [
        "df=pd.read_csv('/content/19BCT0097- Texas-Wind-Turbine-Energy-Prediction.csv')\n",
        "train_X = df.drop(columns=['Time stamp','System power generated | (kW)'])\n",
        "train_Y = df[['System power generated | (kW)']]\n",
        "\n",
        "# randomly split the data\n",
        "train_x, test_x, train_y, test_y = train_test_split(train_X, train_Y,test_size=0.2,random_state=0)\n",
        "\n",
        "# shape of train and test splits\n",
        "train_x.shape, test_x.shape, train_y.shape, test_y.shape"
      ],
      "execution_count": null,
      "outputs": [
        {
          "output_type": "execute_result",
          "data": {
            "text/plain": [
              "((7008, 4), (1752, 4), (7008, 1), (1752, 1))"
            ]
          },
          "metadata": {},
          "execution_count": 10
        }
      ]
    },
    {
      "cell_type": "code",
      "metadata": {
        "id": "UuMh_OXtegXd"
      },
      "source": [
        "## Pipelines Creation\n",
        "## 1. Data Preprocessing by using Standard Scaler\n",
        "## 2. Reduce Dimension using PCA\n",
        "## 3. Apply  Classifier"
      ],
      "execution_count": null,
      "outputs": []
    },
    {
      "cell_type": "code",
      "metadata": {
        "id": "k40VPJcteyVW"
      },
      "source": [
        "from sklearn.model_selection import train_test_split\n",
        "from sklearn.preprocessing import StandardScaler\n",
        "from sklearn.decomposition import PCA\n",
        "from sklearn.pipeline import Pipeline\n",
        "from sklearn.linear_model import LinearRegression\n",
        "from sklearn.tree import DecisionTreeRegressor\n",
        "from sklearn.ensemble import RandomForestRegressor\n",
        "from sklearn.ensemble import GradientBoostingRegressor\n",
        "from sklearn.ensemble import  ExtraTreesRegressor\n",
        "import xgboost\n",
        "from xgboost import XGBRegressor"
      ],
      "execution_count": null,
      "outputs": []
    },
    {
      "cell_type": "code",
      "metadata": {
        "id": "vVwa-O4Ter3z"
      },
      "source": [
        "pipeline_lr=Pipeline([('scalar1',StandardScaler()),\n",
        "                     ('pca1',PCA()),\n",
        "                     ('lr_regressor',LinearRegression())])\n",
        "pipeline_dt=Pipeline([('scalar2',StandardScaler()),\n",
        "                     ('pca2',PCA()),\n",
        "                     ('dt_regressor',DecisionTreeRegressor(min_samples_leaf=.0001))])\n",
        "pipeline_randomforest=Pipeline([('scalar3',StandardScaler()),\n",
        "                     ('pca3',PCA()),\n",
        "                     ('rf_regressor',RandomForestRegressor(n_estimators=500,min_samples_leaf=.0001))])\n",
        "pipeline_gradientbr=Pipeline([('scalar4',StandardScaler()),\n",
        "                     ('pca4',PCA()),\n",
        "                     ('gb_regressor',GradientBoostingRegressor(n_estimators=1000))])\n",
        "pipeline_etr=Pipeline([('scalar5',StandardScaler()),\n",
        "                     ('pca5',PCA()),\n",
        "                     ('et_regressor',ExtraTreesRegressor(n_estimators=1000))])\n",
        "pipeline_xgbr=Pipeline([('scalar6',StandardScaler()),\n",
        "                     ('pca6',PCA()),\n",
        "                     ('xgb_regressor',XGBRegressor(n_estimators=1000))])"
      ],
      "execution_count": null,
      "outputs": []
    },
    {
      "cell_type": "code",
      "metadata": {
        "id": "jtMDZhoLeup7"
      },
      "source": [
        "## Let's make the list of pipelines\n",
        "pipelines = [pipeline_lr, pipeline_dt, pipeline_randomforest, pipeline_gradientbr,pipeline_etr, pipeline_xgbr]"
      ],
      "execution_count": null,
      "outputs": []
    },
    {
      "cell_type": "code",
      "metadata": {
        "id": "5lx-iLdXgcme"
      },
      "source": [
        "best_accuracy=0.0\n",
        "best_classifier=0\n",
        "best_pipeline=\"\""
      ],
      "execution_count": null,
      "outputs": []
    },
    {
      "cell_type": "code",
      "metadata": {
        "colab": {
          "base_uri": "https://localhost:8080/"
        },
        "id": "eEAxgaHZgeuh",
        "outputId": "c73207d8-d341-47ac-ee13-10f0c9f27e54"
      },
      "source": [
        "# Dictionary of pipelines and classifier types for ease of reference\n",
        "pipe_dict = {0: 'Linear Regression', 1: 'Decision Tree', 2: 'RandomForest', 3: 'Gradient Boosting', 4:'Extra Trees', 5:'XGBoost'}\n",
        "history=[]\n",
        "# Fit the pipelines\n",
        "for pipe in pipelines:\n",
        "\thistory.append(pipe.fit(train_x,train_y))"
      ],
      "execution_count": 50,
      "outputs": [
        {
          "output_type": "stream",
          "name": "stderr",
          "text": [
            "/usr/local/lib/python3.7/dist-packages/sklearn/pipeline.py:394: DataConversionWarning: A column-vector y was passed when a 1d array was expected. Please change the shape of y to (n_samples,), for example using ravel().\n",
            "  self._final_estimator.fit(Xt, y, **fit_params_last_step)\n",
            "/usr/local/lib/python3.7/dist-packages/sklearn/ensemble/_gb.py:494: DataConversionWarning: A column-vector y was passed when a 1d array was expected. Please change the shape of y to (n_samples, ), for example using ravel().\n",
            "  y = column_or_1d(y, warn=True)\n",
            "/usr/local/lib/python3.7/dist-packages/sklearn/pipeline.py:394: DataConversionWarning: A column-vector y was passed when a 1d array was expected. Please change the shape of y to (n_samples,), for example using ravel().\n",
            "  self._final_estimator.fit(Xt, y, **fit_params_last_step)\n"
          ]
        },
        {
          "output_type": "stream",
          "name": "stdout",
          "text": [
            "[22:32:40] WARNING: /workspace/src/objective/regression_obj.cu:152: reg:linear is now deprecated in favor of reg:squarederror.\n"
          ]
        }
      ]
    },
    {
      "cell_type": "markdown",
      "metadata": {
        "id": "SQpbVwvC-qPj"
      },
      "source": [
        "## Testing the models and viewing the accuracies and loss metrics"
      ]
    },
    {
      "cell_type": "code",
      "metadata": {
        "colab": {
          "base_uri": "https://localhost:8080/"
        },
        "id": "3HUmR23Fgguv",
        "outputId": "2bad1796-c8f7-43f8-fac1-0e84c536fca1"
      },
      "source": [
        "for i,model in enumerate(pipelines):\n",
        "    print(\"{} Test Accuracy: {}\".format(pipe_dict[i],model.score(test_x,test_y)))"
      ],
      "execution_count": 51,
      "outputs": [
        {
          "output_type": "stream",
          "name": "stdout",
          "text": [
            "Linear Regression Test Accuracy: 0.9154151975855751\n",
            "Decision Tree Test Accuracy: 0.9867943874346548\n",
            "RandomForest Test Accuracy: 0.996050924481116\n",
            "Gradient Boosting Test Accuracy: 0.9978836249774655\n",
            "Extra Trees Test Accuracy: 0.9977442303029166\n",
            "XGBoost Test Accuracy: 0.9980942766081916\n"
          ]
        }
      ]
    },
    {
      "cell_type": "code",
      "metadata": {
        "colab": {
          "base_uri": "https://localhost:8080/"
        },
        "id": "L1ex7aP6jocT",
        "outputId": "fb7e16e0-ec70-420a-d909-039e4ed3075f"
      },
      "source": [
        "for i,model in enumerate(pipelines):\n",
        "    if model.score(test_x,test_y)>best_accuracy:\n",
        "        best_accuracy=model.score(test_x,test_y)\n",
        "        best_pipeline=model\n",
        "        best_classifier=i\n",
        "print('Classifier with best accuracy:{}'.format(pipe_dict[best_classifier]))"
      ],
      "execution_count": 52,
      "outputs": [
        {
          "output_type": "stream",
          "name": "stdout",
          "text": [
            "Classifier with best accuracy:XGBoost\n"
          ]
        }
      ]
    },
    {
      "cell_type": "code",
      "metadata": {
        "colab": {
          "base_uri": "https://localhost:8080/",
          "height": 261
        },
        "id": "nXxjK6XuQ01z",
        "outputId": "859d8655-5cca-486e-ff58-1994d3ccc579"
      },
      "source": [
        "import numpy as np\n",
        "import matplotlib.pyplot as plt\n",
        "\n",
        "plt.rcParams[\"figure.figsize\"] = [7.50, 3.50]\n",
        "plt.rcParams[\"figure.autolayout\"] = True\n",
        "\n",
        "fig, axes = plt.subplots(3, 2)\n",
        "for i,model in enumerate(pipelines):\n",
        "  plt.subplot(3,2,i+1)\n",
        "  plt.scatter(test_y,model.predict(test_x))\n",
        "  plt.title(pipe_dict[i])\n",
        "plt.show()"
      ],
      "execution_count": 53,
      "outputs": [
        {
          "output_type": "display_data",
          "data": {
            "image/png": "[encoded data removed]",
            "text/plain": [
              "<Figure size 540x252 with 6 Axes>"
            ]
          },
          "metadata": {
            "needs_background": "light"
          }
        }
      ]
    },
    {
      "cell_type": "code",
      "metadata": {
        "colab": {
          "base_uri": "https://localhost:8080/"
        },
        "id": "IjkI7-0Y3bnc",
        "outputId": "b71bc270-71c6-4167-92ed-34002b64748f"
      },
      "source": [
        "from sklearn.metrics import mean_squared_error\n",
        "from sklearn.metrics import mean_absolute_error\n",
        "for i,model in enumerate(pipelines):\n",
        "  print(pipe_dict[i]+\":\")\n",
        "  print(\"MSE: {}\".format(mean_squared_error(test_y,model.predict(test_x))))\n",
        "  print(\"RMSE: {}\".format(mean_squared_error(test_y,model.predict(test_x),squared=False)))\n",
        "  print(\"MAE: {}\".format(mean_absolute_error(test_y,model.predict(test_x))))\n",
        "  print(\"-------\")"
      ],
      "execution_count": 54,
      "outputs": [
        {
          "output_type": "stream",
          "name": "stdout",
          "text": [
            "Linear Regression:\n",
            "MSE: 65975.04265980652\n",
            "RMSE: 256.8560738230781\n",
            "MAE: 216.3180134011222\n",
            "-------\n",
            "Decision Tree:\n",
            "MSE: 10300.205562683312\n",
            "RMSE: 101.48992838052115\n",
            "MAE: 64.85237951769406\n",
            "-------\n",
            "RandomForest:\n",
            "MSE: 3080.2273976907873\n",
            "RMSE: 55.499796375219134\n",
            "MAE: 34.26722600997481\n",
            "-------\n",
            "Gradient Boosting:\n",
            "MSE: 1650.7449141011243\n",
            "RMSE: 40.629360247253764\n",
            "MAE: 28.39708993272237\n",
            "-------\n",
            "Extra Trees:\n",
            "MSE: 1759.4709421511725\n",
            "RMSE: 41.946047992047745\n",
            "MAE: 24.777959105798036\n",
            "-------\n",
            "XGBoost:\n",
            "MSE: 1486.4393896238591\n",
            "RMSE: 38.554369267618156\n",
            "MAE: 27.13615317550133\n",
            "-------\n"
          ]
        }
      ]
    },
    {
      "cell_type": "code",
      "metadata": {
        "id": "vWxp-7jj71Tt"
      },
      "source": [
        ""
      ],
      "execution_count": null,
      "outputs": []
    }
  ]
}